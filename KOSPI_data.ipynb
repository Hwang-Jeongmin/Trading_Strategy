{
 "cells": [
  {
   "cell_type": "code",
   "execution_count": 1,
   "metadata": {
    "id": "UaoY1jTJkU35"
   },
   "outputs": [],
   "source": [
    "import numpy as np\n",
    "import pandas as pd\n",
    "import pickle\n",
    "\n",
    "import FinanceDataReader as fdr\n",
    "from pykrx import stock\n",
    "from tqdm import tqdm\n",
    "\n",
    "from numba import njit, jit\n",
    "import warnings\n",
    "warnings.filterwarnings('ignore')"
   ]
  },
  {
   "cell_type": "code",
   "execution_count": 2,
   "metadata": {
    "id": "F9S2kL8nk5Dd"
   },
   "outputs": [],
   "source": [
    "start_date = \"2013-04-01\"\n",
    "end_date = \"2023-04-01\""
   ]
  },
  {
   "cell_type": "code",
   "execution_count": 3,
   "metadata": {
    "id": "o_K_IlBnkaYZ"
   },
   "outputs": [],
   "source": [
    "df_spx = fdr.StockListing(\"KOSPI\")\n",
    "tickers = df_spx['Code']"
   ]
  },
  {
   "cell_type": "code",
   "execution_count": 4,
   "metadata": {},
   "outputs": [],
   "source": [
    "def return_price_cap_pykrx(tickers, start_date, end_date):\n",
    "    price_df = pd.DataFrame()\n",
    "    cap_df = pd.DataFrame()\n",
    "    for ticker in tqdm(tickers):\n",
    "        temp = stock.get_market_ohlcv(start_date, end_date, ticker)\n",
    "        temp = temp.astype('float')\n",
    "        temp_price = temp['종가'].to_frame(ticker)\n",
    "        temp_cap = (temp['종가']*temp['거래량']).to_frame(ticker)\n",
    "        price_df = pd.concat([price_df, temp_price],axis=1)\n",
    "        cap_df = pd.concat([cap_df, temp_cap], axis=1)\n",
    "    return price_df, cap_df"
   ]
  },
  {
   "cell_type": "code",
   "execution_count": 5,
   "metadata": {},
   "outputs": [
    {
     "name": "stderr",
     "output_type": "stream",
     "text": [
      "100%|██████████| 948/948 [02:29<00:00,  6.35it/s]\n"
     ]
    }
   ],
   "source": [
    "price_df, cap_df = return_price_cap_pykrx(tickers, start_date, end_date)\n",
    "price_df = price_df.dropna(axis=1)\n",
    "cap_df = cap_df.dropna(axis=1)"
   ]
  },
  {
   "cell_type": "code",
   "execution_count": 6,
   "metadata": {},
   "outputs": [
    {
     "name": "stdout",
     "output_type": "stream",
     "text": [
      "True\n",
      "770\n"
     ]
    }
   ],
   "source": [
    "print(cap_df.columns.tolist() == price_df.columns.tolist())\n",
    "tickers = price_df.columns.tolist()\n",
    "print(len(tickers))"
   ]
  },
  {
   "cell_type": "code",
   "execution_count": 7,
   "metadata": {},
   "outputs": [],
   "source": [
    "def return_fundamental_data(tickers, start_date, end_date):\n",
    "    per = pd.DataFrame()\n",
    "    pbr = pd.DataFrame()\n",
    "    div = pd.DataFrame()\n",
    "    for ticker in tqdm(tickers):\n",
    "        temp = stock.get_market_fundamental(start_date, end_date, ticker)\n",
    "        temp = temp.astype('float')\n",
    "        try:\n",
    "            if (0 in temp['PER'].tolist()) or (0 in temp['PBR'].tolist()) or (0 in temp['DIV'].tolist()):\n",
    "                pass\n",
    "            else:\n",
    "                temp_per = temp['PER'].to_frame(ticker)\n",
    "                temp_pbr = temp['PBR'].to_frame(ticker)\n",
    "                temp_div = temp['DIV'].to_frame(ticker)\n",
    "                per = pd.concat([per,temp_per ], axis=1)\n",
    "                pbr = pd.concat([pbr, temp_pbr], axis=1)\n",
    "                div = pd.concat([div, temp_div], axis=1)\n",
    "        except:\n",
    "            pass\n",
    "    return per, pbr, div"
   ]
  },
  {
   "cell_type": "code",
   "execution_count": 8,
   "metadata": {},
   "outputs": [
    {
     "name": "stderr",
     "output_type": "stream",
     "text": [
      "100%|██████████| 770/770 [1:01:43<00:00,  4.81s/it]\n"
     ]
    }
   ],
   "source": [
    "per, pbr, div = return_fundamental_data(tickers, start_date, end_date)"
   ]
  },
  {
   "cell_type": "code",
   "execution_count": 9,
   "metadata": {
    "id": "__YptaxclM4e"
   },
   "outputs": [
    {
     "name": "stdout",
     "output_type": "stream",
     "text": [
      "186\n"
     ]
    }
   ],
   "source": [
    "tickers = per.columns.tolist()\n",
    "print(len(tickers))"
   ]
  },
  {
   "cell_type": "code",
   "execution_count": 10,
   "metadata": {
    "id": "mQSknM7Dmqtr"
   },
   "outputs": [],
   "source": [
    "krx_dict = {}\n",
    "krx_dict['price'] = price_df\n",
    "krx_dict['cap'] = cap_df\n",
    "krx_dict['per'] = per\n",
    "krx_dict['pbr'] = pbr\n",
    "krx_dict['div'] = div"
   ]
  },
  {
   "cell_type": "code",
   "execution_count": 11,
   "metadata": {
    "id": "5HOQeRhXsEcT"
   },
   "outputs": [],
   "source": [
    "# pickle로 저장하기\n",
    "with open('krx_dict.pkl','wb') as f:\n",
    "    pickle.dump(krx_dict, f)"
   ]
  }
 ],
 "metadata": {
  "colab": {
   "provenance": []
  },
  "kernelspec": {
   "display_name": "ml4at",
   "language": "python",
   "name": "ml4at"
  },
  "language_info": {
   "codemirror_mode": {
    "name": "ipython",
    "version": 3
   },
   "file_extension": ".py",
   "mimetype": "text/x-python",
   "name": "python",
   "nbconvert_exporter": "python",
   "pygments_lexer": "ipython3",
   "version": "3.8.13"
  }
 },
 "nbformat": 4,
 "nbformat_minor": 1
}
