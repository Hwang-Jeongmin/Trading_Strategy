{
 "cells": [
  {
   "cell_type": "code",
   "execution_count": 1,
   "metadata": {
    "id": "UaoY1jTJkU35"
   },
   "outputs": [],
   "source": [
    "import numpy as np\n",
    "import pandas as pd\n",
    "import pickle\n",
    "\n",
    "import FinanceDataReader as fdr\n",
    "from tqdm import tqdm\n",
    "\n",
    "import warnings\n",
    "warnings.filterwarnings('ignore')"
   ]
  },
  {
   "cell_type": "code",
   "execution_count": 2,
   "metadata": {
    "id": "F9S2kL8nk5Dd"
   },
   "outputs": [],
   "source": [
    "start_date = \"2013-01-01\"\n",
    "end_date = \"2023-01-31\""
   ]
  },
  {
   "cell_type": "code",
   "execution_count": 3,
   "metadata": {
    "id": "o_K_IlBnkaYZ"
   },
   "outputs": [],
   "source": [
    "df_spx = fdr.StockListing(\"S&P500\")\n",
    "tickers = df_spx['Symbol'].tolist()"
   ]
  },
  {
   "cell_type": "code",
   "execution_count": 4,
   "metadata": {
    "colab": {
     "base_uri": "https://localhost:8080/"
    },
    "id": "xLOoanZvkpeR",
    "outputId": "b7f371a7-5407-4b4a-d42c-0ab5fb91023c"
   },
   "outputs": [
    {
     "name": "stdout",
     "output_type": "stream",
     "text": [
      "HTTP Error 404: Not Found  - symbol \"BRKB\"not found or invalid periods\n",
      "HTTP Error 404: Not Found  - symbol \"BFB\"not found or invalid periods\n"
     ]
    }
   ],
   "source": [
    "df = pd.DataFrame()\n",
    "for ticker in tickers:\n",
    "    try:\n",
    "        temp = fdr.DataReader(ticker, start_date, end_date)\n",
    "        df[ticker] = temp['Adj Close']\n",
    "    except:\n",
    "        pass"
   ]
  },
  {
   "cell_type": "code",
   "execution_count": 5,
   "metadata": {
    "id": "__YptaxclM4e"
   },
   "outputs": [],
   "source": [
    "df = df.dropna(axis=1)\n",
    "tickers = df.columns.tolist()"
   ]
  },
  {
   "cell_type": "code",
   "execution_count": 6,
   "metadata": {
    "id": "mQSknM7Dmqtr"
   },
   "outputs": [],
   "source": [
    "sp500_dict = {}\n",
    "for ticker in tickers:\n",
    "    temp = fdr.DataReader(ticker, start_date, end_date)\n",
    "    temp = temp.drop('Close',axis=1)\n",
    "    temp = temp.rename(columns={'Adj Close': 'Close'})\n",
    "    sp500_dict[ticker] = temp"
   ]
  },
  {
   "cell_type": "code",
   "execution_count": 8,
   "metadata": {
    "id": "5HOQeRhXsEcT"
   },
   "outputs": [],
   "source": [
    "df.to_csv(\"sp500.csv\")\n",
    "# pickle로 저장하기\n",
    "with open('sp500_dict.pkl','wb') as f:\n",
    "    pickle.dump(sp500_dict, f)"
   ]
  }
 ],
 "metadata": {
  "colab": {
   "provenance": []
  },
  "kernelspec": {
   "display_name": "ml4at",
   "language": "python",
   "name": "ml4at"
  },
  "language_info": {
   "codemirror_mode": {
    "name": "ipython",
    "version": 3
   },
   "file_extension": ".py",
   "mimetype": "text/x-python",
   "name": "python",
   "nbconvert_exporter": "python",
   "pygments_lexer": "ipython3",
   "version": "3.8.13"
  }
 },
 "nbformat": 4,
 "nbformat_minor": 1
}
