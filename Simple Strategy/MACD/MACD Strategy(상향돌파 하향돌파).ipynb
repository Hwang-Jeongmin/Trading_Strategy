{
 "cells": [
  {
   "cell_type": "markdown",
   "id": "4e2a8a90",
   "metadata": {},
   "source": [
    "## 패키지 가져오기"
   ]
  },
  {
   "cell_type": "code",
   "execution_count": 1,
   "id": "945f678b",
   "metadata": {},
   "outputs": [],
   "source": [
    "from pykrx import stock\n",
    "import pandas_datareader.data as web\n",
    "from talib import BBANDS, RSI, MACD\n",
    "\n",
    "import pandas as pd\n",
    "import numpy as np\n",
    "\n",
    "import time\n",
    "from datetime import datetime\n",
    "\n",
    "import matplotlib.pyplot as plt\n",
    "from matplotlib.ticker import FuncFormatter\n",
    "import seaborn as sns\n",
    "from pykrx import stock\n",
    "from pykrx import bond\n",
    "import pandas_datareader.data as web\n",
    "import FinanceDataReader as fdr\n",
    "\n",
    "from talib import RSI, BBANDS, MACD\n",
    "\n",
    "import numpy as np\n",
    "import pandas as pd\n",
    "\n",
    "import matplotlib.pyplot as plt\n",
    "import seaborn as sns\n",
    "from matplotlib.ticker import FuncFormatter\n",
    "import seaborn as sns\n",
    "\n",
    "from datetime import datetime\n",
    "import time\n",
    "from tqdm import tqdm\n",
    "\n",
    "import multiprocessing as mp\n",
    "from multiprocessing import Pool, Manager\n",
    "\n",
    "import warnings\n",
    "warnings.filterwarnings('ignore')"
   ]
  },
  {
   "cell_type": "code",
   "execution_count": 2,
   "id": "31fc738a",
   "metadata": {},
   "outputs": [
    {
     "name": "stdout",
     "output_type": "stream",
     "text": [
      "사용가능한 코어 수: 8\n"
     ]
    }
   ],
   "source": [
    "num_cores = mp.cpu_count()\n",
    "print(f\"사용가능한 코어 수: {num_cores}\")"
   ]
  },
  {
   "cell_type": "code",
   "execution_count": 3,
   "id": "ec4cc34d",
   "metadata": {},
   "outputs": [
    {
     "name": "stdout",
     "output_type": "stream",
     "text": [
      "KOSPI 종목 수:  943\n",
      "KOSDAQ 종목 수:  1615\n",
      "전체 종목 수:  2558\n"
     ]
    }
   ],
   "source": [
    "# 2023년 3월 1일 기준 KOSPI와 KOSDAQ의 종목 수를 파악\n",
    "start_date, end_date = \"2015-02-11\", \"2023-03-01\"\n",
    "kospi_tickers = stock.get_market_ticker_list(end_date, market='KOSPI')\n",
    "kosdaq_tickers = stock.get_market_ticker_list(end_date, market='KOSDAQ')\n",
    "all_tickers = kospi_tickers + kosdaq_tickers\n",
    "\n",
    "print(\"KOSPI 종목 수: \", len(kospi_tickers))\n",
    "print(\"KOSDAQ 종목 수: \", len(kosdaq_tickers))\n",
    "print(\"전체 종목 수: \", len(all_tickers))"
   ]
  },
  {
   "cell_type": "markdown",
   "id": "ee074d0f",
   "metadata": {},
   "source": [
    "## 전략 수립 및 구현"
   ]
  },
  {
   "cell_type": "markdown",
   "id": "c067a8d2",
   "metadata": {},
   "source": [
    "12일을 단기 이동평균, 26일 중기 이동평균으로 사용  \n",
    "단기 이동평균과 중기 이동평균의 차이를 MACD Signal이라고 하고, MACD Signal의 9일 이동평균선을 사용\n",
    "만약 MACD가 MACD Signal보다 높으면 매수,낮으면 매도를 실시 함.  \n",
    "이 때, MACD Signal이 가장 높은 100개(최대)를 매수하고, 가장 낮은 100개(최대)를 매도함  \n",
    "성과는 연간 -4.7%의 수익률을 기록"
   ]
  },
  {
   "cell_type": "code",
   "execution_count": 4,
   "id": "c9d6e50d",
   "metadata": {},
   "outputs": [
    {
     "data": {
      "text/plain": [
       "DatetimeIndex(['2015-02-11', '2015-02-12', '2015-02-13', '2015-02-16',\n",
       "               '2015-02-17', '2015-02-23', '2015-02-24', '2015-02-25',\n",
       "               '2015-02-26', '2015-02-27'],\n",
       "              dtype='datetime64[ns]', name='날짜', freq=None)"
      ]
     },
     "execution_count": 4,
     "metadata": {},
     "output_type": "execute_result"
    }
   ],
   "source": [
    "rebalance_date = stock.get_market_ohlcv(start_date, end_date, \"005930\").index\n",
    "rebalance_date = pd.to_datetime(rebalance_date, format='%Y-%m-%d')\n",
    "rebalance_date[:10]"
   ]
  },
  {
   "cell_type": "code",
   "execution_count": 5,
   "id": "90480f82",
   "metadata": {},
   "outputs": [
    {
     "name": "stderr",
     "output_type": "stream",
     "text": [
      "100%|██████████| 1981/1981 [17:56<00:00,  1.84it/s]\n"
     ]
    },
    {
     "name": "stdout",
     "output_type": "stream",
     "text": [
      "해당 기간동안의 모든 ticker 개수는 2863\n"
     ]
    }
   ],
   "source": [
    "# 쓰이는 모든 티커들을 모음\n",
    "all_tickers = []\n",
    "for date in tqdm(rebalance_date):\n",
    "    kospi_tickers = stock.get_market_ticker_list(date, market='KOSPI')\n",
    "    kosdaq_tickers = stock.get_market_ticker_list(date, market='KOSDAQ')\n",
    "    all_tickers += kospi_tickers\n",
    "    all_tickers += kosdaq_tickers\n",
    "all_tickers = list(set(all_tickers))\n",
    "print(f\"해당 기간동안의 모든 ticker 개수는 {len(all_tickers)}\")"
   ]
  },
  {
   "cell_type": "code",
   "execution_count": 6,
   "id": "bd0a6029",
   "metadata": {},
   "outputs": [
    {
     "name": "stderr",
     "output_type": "stream",
     "text": [
      "100%|██████████| 2863/2863 [04:02<00:00, 11.80it/s]\n"
     ]
    }
   ],
   "source": [
    "def return_price_df(tickers, start_date, end_date):\n",
    "    df = pd.DataFrame()\n",
    "    for ticker in tqdm(tickers):\n",
    "        price_df = stock.get_market_ohlcv(start_date, end_date, ticker)['종가'].to_frame(ticker)\n",
    "        df = pd.concat([df, price_df], axis=1)\n",
    "    return df\n",
    "\n",
    "price_df = return_price_df(all_tickers, start_date, end_date)\n",
    "price_df.to_csv('MACD_price_df.csv')"
   ]
  },
  {
   "cell_type": "code",
   "execution_count": 7,
   "id": "a442389d",
   "metadata": {
    "scrolled": true
   },
   "outputs": [
    {
     "data": {
      "text/html": [
       "<div>\n",
       "<style scoped>\n",
       "    .dataframe tbody tr th:only-of-type {\n",
       "        vertical-align: middle;\n",
       "    }\n",
       "\n",
       "    .dataframe tbody tr th {\n",
       "        vertical-align: top;\n",
       "    }\n",
       "\n",
       "    .dataframe thead th {\n",
       "        text-align: right;\n",
       "    }\n",
       "</style>\n",
       "<table border=\"1\" class=\"dataframe\">\n",
       "  <thead>\n",
       "    <tr style=\"text-align: right;\">\n",
       "      <th></th>\n",
       "      <th>900340</th>\n",
       "      <th>192080</th>\n",
       "      <th>000140</th>\n",
       "      <th>036640</th>\n",
       "      <th>095190</th>\n",
       "      <th>002760</th>\n",
       "      <th>000210</th>\n",
       "      <th>069330</th>\n",
       "      <th>036890</th>\n",
       "      <th>067370</th>\n",
       "      <th>...</th>\n",
       "      <th>096640</th>\n",
       "      <th>200670</th>\n",
       "      <th>400760</th>\n",
       "      <th>367480</th>\n",
       "      <th>007630</th>\n",
       "      <th>195990</th>\n",
       "      <th>002960</th>\n",
       "      <th>038950</th>\n",
       "      <th>077360</th>\n",
       "      <th>225440</th>\n",
       "    </tr>\n",
       "    <tr>\n",
       "      <th>날짜</th>\n",
       "      <th></th>\n",
       "      <th></th>\n",
       "      <th></th>\n",
       "      <th></th>\n",
       "      <th></th>\n",
       "      <th></th>\n",
       "      <th></th>\n",
       "      <th></th>\n",
       "      <th></th>\n",
       "      <th></th>\n",
       "      <th></th>\n",
       "      <th></th>\n",
       "      <th></th>\n",
       "      <th></th>\n",
       "      <th></th>\n",
       "      <th></th>\n",
       "      <th></th>\n",
       "      <th></th>\n",
       "      <th></th>\n",
       "      <th></th>\n",
       "      <th></th>\n",
       "    </tr>\n",
       "  </thead>\n",
       "  <tbody>\n",
       "    <tr>\n",
       "      <th>2015-02-11</th>\n",
       "      <td>0.0</td>\n",
       "      <td>0.0</td>\n",
       "      <td>12000</td>\n",
       "      <td>3690</td>\n",
       "      <td>4614</td>\n",
       "      <td>696</td>\n",
       "      <td>51777</td>\n",
       "      <td>9980</td>\n",
       "      <td>5440</td>\n",
       "      <td>0.0</td>\n",
       "      <td>...</td>\n",
       "      <td>5333</td>\n",
       "      <td>61089</td>\n",
       "      <td>0.0</td>\n",
       "      <td>0.0</td>\n",
       "      <td>3735.0</td>\n",
       "      <td>0.0</td>\n",
       "      <td>483500</td>\n",
       "      <td>7320</td>\n",
       "      <td>4450</td>\n",
       "      <td>0.0</td>\n",
       "    </tr>\n",
       "    <tr>\n",
       "      <th>2015-02-12</th>\n",
       "      <td>0.0</td>\n",
       "      <td>0.0</td>\n",
       "      <td>11800</td>\n",
       "      <td>3685</td>\n",
       "      <td>4641</td>\n",
       "      <td>676</td>\n",
       "      <td>49789</td>\n",
       "      <td>9400</td>\n",
       "      <td>5390</td>\n",
       "      <td>0.0</td>\n",
       "      <td>...</td>\n",
       "      <td>5179</td>\n",
       "      <td>55861</td>\n",
       "      <td>0.0</td>\n",
       "      <td>0.0</td>\n",
       "      <td>3610.0</td>\n",
       "      <td>0.0</td>\n",
       "      <td>469500</td>\n",
       "      <td>7700</td>\n",
       "      <td>4420</td>\n",
       "      <td>0.0</td>\n",
       "    </tr>\n",
       "    <tr>\n",
       "      <th>2015-02-13</th>\n",
       "      <td>0.0</td>\n",
       "      <td>0.0</td>\n",
       "      <td>12300</td>\n",
       "      <td>3680</td>\n",
       "      <td>4641</td>\n",
       "      <td>669</td>\n",
       "      <td>50331</td>\n",
       "      <td>9220</td>\n",
       "      <td>5670</td>\n",
       "      <td>0.0</td>\n",
       "      <td>...</td>\n",
       "      <td>5251</td>\n",
       "      <td>59586</td>\n",
       "      <td>0.0</td>\n",
       "      <td>0.0</td>\n",
       "      <td>3520.0</td>\n",
       "      <td>0.0</td>\n",
       "      <td>483000</td>\n",
       "      <td>7670</td>\n",
       "      <td>4340</td>\n",
       "      <td>0.0</td>\n",
       "    </tr>\n",
       "    <tr>\n",
       "      <th>2015-02-16</th>\n",
       "      <td>0.0</td>\n",
       "      <td>0.0</td>\n",
       "      <td>12450</td>\n",
       "      <td>3665</td>\n",
       "      <td>4686</td>\n",
       "      <td>680</td>\n",
       "      <td>50693</td>\n",
       "      <td>9000</td>\n",
       "      <td>5950</td>\n",
       "      <td>0.0</td>\n",
       "      <td>...</td>\n",
       "      <td>5240</td>\n",
       "      <td>53784</td>\n",
       "      <td>0.0</td>\n",
       "      <td>0.0</td>\n",
       "      <td>3600.0</td>\n",
       "      <td>0.0</td>\n",
       "      <td>475000</td>\n",
       "      <td>7750</td>\n",
       "      <td>4255</td>\n",
       "      <td>0.0</td>\n",
       "    </tr>\n",
       "    <tr>\n",
       "      <th>2015-02-17</th>\n",
       "      <td>0.0</td>\n",
       "      <td>0.0</td>\n",
       "      <td>12000</td>\n",
       "      <td>3605</td>\n",
       "      <td>4695</td>\n",
       "      <td>719</td>\n",
       "      <td>51506</td>\n",
       "      <td>8920</td>\n",
       "      <td>5960</td>\n",
       "      <td>0.0</td>\n",
       "      <td>...</td>\n",
       "      <td>5148</td>\n",
       "      <td>54573</td>\n",
       "      <td>0.0</td>\n",
       "      <td>0.0</td>\n",
       "      <td>3545.0</td>\n",
       "      <td>0.0</td>\n",
       "      <td>475000</td>\n",
       "      <td>7720</td>\n",
       "      <td>4165</td>\n",
       "      <td>0.0</td>\n",
       "    </tr>\n",
       "  </tbody>\n",
       "</table>\n",
       "<p>5 rows × 2863 columns</p>\n",
       "</div>"
      ],
      "text/plain": [
       "            900340  192080  000140  036640  095190  002760  000210  069330  \\\n",
       "날짜                                                                           \n",
       "2015-02-11     0.0     0.0   12000    3690    4614     696   51777    9980   \n",
       "2015-02-12     0.0     0.0   11800    3685    4641     676   49789    9400   \n",
       "2015-02-13     0.0     0.0   12300    3680    4641     669   50331    9220   \n",
       "2015-02-16     0.0     0.0   12450    3665    4686     680   50693    9000   \n",
       "2015-02-17     0.0     0.0   12000    3605    4695     719   51506    8920   \n",
       "\n",
       "            036890  067370  ...  096640  200670  400760  367480  007630  \\\n",
       "날짜                          ...                                           \n",
       "2015-02-11    5440     0.0  ...    5333   61089     0.0     0.0  3735.0   \n",
       "2015-02-12    5390     0.0  ...    5179   55861     0.0     0.0  3610.0   \n",
       "2015-02-13    5670     0.0  ...    5251   59586     0.0     0.0  3520.0   \n",
       "2015-02-16    5950     0.0  ...    5240   53784     0.0     0.0  3600.0   \n",
       "2015-02-17    5960     0.0  ...    5148   54573     0.0     0.0  3545.0   \n",
       "\n",
       "            195990  002960  038950  077360  225440  \n",
       "날짜                                                  \n",
       "2015-02-11     0.0  483500    7320    4450     0.0  \n",
       "2015-02-12     0.0  469500    7700    4420     0.0  \n",
       "2015-02-13     0.0  483000    7670    4340     0.0  \n",
       "2015-02-16     0.0  475000    7750    4255     0.0  \n",
       "2015-02-17     0.0  475000    7720    4165     0.0  \n",
       "\n",
       "[5 rows x 2863 columns]"
      ]
     },
     "execution_count": 7,
     "metadata": {},
     "output_type": "execute_result"
    }
   ],
   "source": [
    "price_df = pd.read_csv('MACD_price_df.csv', index_col=0)\n",
    "price_df = price_df.fillna(0)\n",
    "price_df.head()"
   ]
  },
  {
   "cell_type": "code",
   "execution_count": 8,
   "id": "4a4eb4ce",
   "metadata": {},
   "outputs": [
    {
     "ename": "NameError",
     "evalue": "name 'macd' is not defined",
     "output_type": "error",
     "traceback": [
      "\u001b[1;31m---------------------------------------------------------------------------\u001b[0m",
      "\u001b[1;31mNameError\u001b[0m                                 Traceback (most recent call last)",
      "Input \u001b[1;32mIn [8]\u001b[0m, in \u001b[0;36m<cell line: 9>\u001b[1;34m()\u001b[0m\n\u001b[0;32m      9\u001b[0m \u001b[38;5;28;01mfor\u001b[39;00m col \u001b[38;5;129;01min\u001b[39;00m price_df\u001b[38;5;241m.\u001b[39mcolumns:\n\u001b[0;32m     10\u001b[0m     macd_df,macd_signal, macd_hist \u001b[38;5;241m=\u001b[39m MACD(price_df[col], fastperiod\u001b[38;5;241m=\u001b[39mfastperiod, \n\u001b[0;32m     11\u001b[0m                                        slowperiod\u001b[38;5;241m=\u001b[39mslowperiod, signalperiod\u001b[38;5;241m=\u001b[39msignalperiod)\n\u001b[1;32m---> 12\u001b[0m     macd_df[col], macd_signal_df[col], macd_hist_df[col] \u001b[38;5;241m=\u001b[39m \u001b[43mmacd\u001b[49m, macd_signal, macd_hist\n",
      "\u001b[1;31mNameError\u001b[0m: name 'macd' is not defined"
     ]
    }
   ],
   "source": [
    "fastperiod = 12\n",
    "slowperiod = 26\n",
    "signalperiod = 5\n",
    "\n",
    "macd_df = price_df.copy()\n",
    "macd_signal_df = price_df.copy()\n",
    "macd_hist_df = price_df.copy()\n",
    "\n",
    "for col in price_df.columns:\n",
    "    macd_df,macd_signal, macd_hist = MACD(price_df[col], fastperiod=fastperiod, \n",
    "                                       slowperiod=slowperiod, signalperiod=signalperiod)\n",
    "    macd_df[col], macd_signal_df[col], macd_hist_df[col] = macd, macd_signal, macd_hist"
   ]
  },
  {
   "cell_type": "code",
   "execution_count": null,
   "id": "0bd99f97",
   "metadata": {},
   "outputs": [],
   "source": [
    "macd_signal_df = macd_signal_df.fillna(0)\n",
    "def calculate_weights(macd_signal_df, long=100, short=100):\n",
    "    long_signal = ((macd_signal_df\n",
    "                  .where(macd_signal_df > 0)\n",
    "                  .rank(axis=1, ascending=False) <= long)\n",
    "                  .astype(int))\n",
    "    short_signal = ((macd_signal_df\n",
    "                   .where(macd_signal_df < 0)\n",
    "                   .rank(axis=1, ascending=True) <= short)\n",
    "                    .astype(int)\n",
    "                    .mul(-1))\n",
    "    signal = long_signal.add(short_signal)\n",
    "    def calculate_weights_from_signal(arr):\n",
    "        long_signal = (arr == 1).astype(int)\n",
    "        short_signal = (arr == -1).astype(int)\n",
    "        long_cnt = np.clip(np.sum((arr == 1)), 0, long)\n",
    "        short_cnt = np.clip(np.sum((arr == -1)), 0, short)\n",
    "        if long_cnt > 0:\n",
    "            long_signal = long_signal / long_cnt\n",
    "        if short_cnt > 0:\n",
    "            short_signal = -1 * short_signal / short_cnt\n",
    "        return long_signal.add(short_signal)\n",
    "    signal = signal.apply(calculate_weights_from_signal, axis=1)\n",
    "    return signal\n",
    "weights = calculate_weights(macd_signal_df)\n",
    "weights.index = pd.to_datetime(weights.index, format='%Y-%m-%d')"
   ]
  },
  {
   "cell_type": "code",
   "execution_count": null,
   "id": "1093c84a",
   "metadata": {
    "scrolled": true
   },
   "outputs": [],
   "source": [
    "# 수익률 계산\n",
    "# NaN 값은 일단 0으로 처리\n",
    "fwd_return = price_df.pct_change().shift(-1)\n",
    "fwd_return = fwd_return.fillna(0)\n",
    "fwd_return.index = pd.to_datetime(fwd_return.index, format='%Y-%m-%d')\n",
    "fwd_return.tail()"
   ]
  },
  {
   "cell_type": "code",
   "execution_count": null,
   "id": "1963d18c",
   "metadata": {
    "scrolled": true
   },
   "outputs": [],
   "source": [
    "# 일별 수익률 계산\n",
    "daily_return = weights.mul(fwd_return).sum(axis=1)\n",
    "daily_return = daily_return[(daily_return.index >=\"2015-03-01\") & (daily_return.index < \"2023-02-28\")]\n",
    "daily_return = daily_return.to_frame(\"daily_return\")\n",
    "daily_return"
   ]
  },
  {
   "cell_type": "code",
   "execution_count": null,
   "id": "869dca96",
   "metadata": {
    "scrolled": true
   },
   "outputs": [],
   "source": [
    "# 누적수익률 계산\n",
    "cumulative_return = np.exp(np.log(daily_return['daily_return'] + 1).cumsum())-1\n",
    "cumulative_return = cumulative_return.to_frame(\"cumulative_return\")\n",
    "cumulative_return"
   ]
  },
  {
   "cell_type": "code",
   "execution_count": null,
   "id": "9b1e3029",
   "metadata": {
    "scrolled": true
   },
   "outputs": [],
   "source": [
    "fig = plt.figure(figsize=(7,7))\n",
    "ax = fig.add_subplot(111)\n",
    "ax.plot(cumulative_return)\n",
    "ax.set_title(\"CUMULATIVE RETURN\", fontsize=16)\n",
    "ax.yaxis.set_major_formatter(FuncFormatter(lambda y, _: '{:.0%}'.format(y)))"
   ]
  },
  {
   "cell_type": "markdown",
   "id": "34d0eb46",
   "metadata": {},
   "source": [
    "## 자세한 결과 분석"
   ]
  },
  {
   "cell_type": "code",
   "execution_count": null,
   "id": "d8a977bf",
   "metadata": {},
   "outputs": [],
   "source": [
    "import pyfolio as pf\n",
    "from pyfolio.plotting import plot_rolling_returns, plot_rolling_sharpe\n",
    "from pyfolio.timeseries import forecast_cone_bootstrap"
   ]
  },
  {
   "cell_type": "code",
   "execution_count": null,
   "id": "ae25591e",
   "metadata": {},
   "outputs": [],
   "source": [
    "fig, axes = plt.subplots(ncols=2, figsize=(16, 8))\n",
    "\n",
    "plot_rolling_returns(daily_return['daily_return'],\n",
    "                     logy=False,\n",
    "                     legend_loc='best',\n",
    "                     volatility_match=False,\n",
    "                    ax=axes[0])\n",
    "plot_rolling_sharpe(daily_return['daily_return'], ax=axes[1], rolling_window=63)\n",
    "axes[0].set_title('Cumulative Returns', fontsize=16)\n",
    "axes[1].set_title('Rolling Sharpe Ratio (3 Months)', fontsize=16)"
   ]
  },
  {
   "cell_type": "code",
   "execution_count": null,
   "id": "ef7c0ecd",
   "metadata": {},
   "outputs": [],
   "source": [
    "pf.create_returns_tear_sheet(daily_return['daily_return'])"
   ]
  },
  {
   "cell_type": "markdown",
   "id": "f4db6211",
   "metadata": {},
   "source": [
    "## 전략수정(역으로 해보기)"
   ]
  },
  {
   "cell_type": "markdown",
   "id": "5a7a91bb",
   "metadata": {},
   "source": [
    "위의 전략과 반대되는 전략 사용  \n",
    "MACD Signal이 가장 높은 100개(최대)를 매도하고, 가장 낮은 100개(최대)를 매수함  \n",
    "성과는 더 안좋음"
   ]
  },
  {
   "cell_type": "code",
   "execution_count": null,
   "id": "135a6729",
   "metadata": {},
   "outputs": [],
   "source": [
    "price_df = pd.read_csv('MACD_price_df.csv', index_col=0)\n",
    "price_df = price_df.fillna(0)\n",
    "price_df.head()"
   ]
  },
  {
   "cell_type": "code",
   "execution_count": null,
   "id": "19433b31",
   "metadata": {},
   "outputs": [],
   "source": [
    "fastperiod = 12\n",
    "slowperiod = 26\n",
    "signalperiod = 5\n",
    "\n",
    "macd_df = price_df.copy()\n",
    "macd_signal_df = price_df.copy()\n",
    "macd_hist_df = price_df.copy()\n",
    "\n",
    "for col in price_df.columns:\n",
    "    macd_df,macd_signal, macd_hist = MACD(price_df[col], fastperiod=fastperiod, \n",
    "                                       slowperiod=slowperiod, signalperiod=signalperiod)\n",
    "    macd_df[col], macd_signal_df[col], macd_hist_df[col] = macd, macd_signal, macd_hist"
   ]
  },
  {
   "cell_type": "code",
   "execution_count": null,
   "id": "8f748a13",
   "metadata": {},
   "outputs": [],
   "source": [
    "macd_signal_df = macd_signal_df.fillna(0)\n",
    "def calculate_weights(macd_signal_df, long=100, short=100):\n",
    "    long_signal = ((macd_signal_df\n",
    "                  .where(macd_signal_df < 0)\n",
    "                  .rank(axis=1, ascending=False) <= long)\n",
    "                  .astype(int))\n",
    "    short_signal = ((macd_signal_df\n",
    "                   .where(macd_signal_df > 0)\n",
    "                   .rank(axis=1, ascending=True) <= short)\n",
    "                    .astype(int)\n",
    "                    .mul(-1))\n",
    "    signal = long_signal.add(short_signal)\n",
    "    def calculate_weights_from_signal(arr):\n",
    "        long_signal = (arr == 1).astype(int)\n",
    "        short_signal = (arr == -1).astype(int)\n",
    "        long_cnt = np.clip(np.sum((arr == 1)), 0, long)\n",
    "        short_cnt = np.clip(np.sum((arr == -1)), 0, short)\n",
    "        if long_cnt > 0:\n",
    "            long_signal = long_signal / long_cnt\n",
    "        if short_cnt > 0:\n",
    "            short_signal = -1 * short_signal / short_cnt\n",
    "        return long_signal.add(short_signal)\n",
    "    signal = signal.apply(calculate_weights_from_signal, axis=1)\n",
    "    return signal\n",
    "weights = calculate_weights(macd_signal_df)\n",
    "weights.index = pd.to_datetime(weights.index, format='%Y-%m-%d')"
   ]
  },
  {
   "cell_type": "code",
   "execution_count": null,
   "id": "c8fef6eb",
   "metadata": {},
   "outputs": [],
   "source": [
    "# 수익률 계산\n",
    "# NaN 값은 일단 0으로 처리\n",
    "fwd_return = price_df.pct_change().shift(-1)\n",
    "fwd_return = fwd_return.fillna(0)\n",
    "fwd_return.index = pd.to_datetime(fwd_return.index, format='%Y-%m-%d')\n",
    "fwd_return.tail()"
   ]
  },
  {
   "cell_type": "code",
   "execution_count": null,
   "id": "d6abbe1f",
   "metadata": {},
   "outputs": [],
   "source": [
    "# 일별 수익률 계산\n",
    "daily_return = weights.mul(fwd_return).sum(axis=1)\n",
    "daily_return = daily_return[(daily_return.index >=\"2015-03-01\") & (daily_return.index < \"2023-02-28\")]\n",
    "daily_return = daily_return.to_frame(\"daily_return\")\n",
    "daily_return"
   ]
  },
  {
   "cell_type": "code",
   "execution_count": null,
   "id": "8d6fde8c",
   "metadata": {},
   "outputs": [],
   "source": [
    "# 누적수익률 계산\n",
    "cumulative_return = np.exp(np.log(daily_return['daily_return'] + 1).cumsum())-1\n",
    "cumulative_return = cumulative_return.to_frame(\"cumulative_return\")\n",
    "cumulative_return"
   ]
  },
  {
   "cell_type": "code",
   "execution_count": null,
   "id": "a5b9b431",
   "metadata": {},
   "outputs": [],
   "source": [
    "fig = plt.figure(figsize=(7,7))\n",
    "ax = fig.add_subplot(111)\n",
    "ax.plot(cumulative_return)\n",
    "ax.set_title(\"CUMULATIVE RETURN\", fontsize=16)\n",
    "ax.yaxis.set_major_formatter(FuncFormatter(lambda y, _: '{:.0%}'.format(y)))"
   ]
  }
 ],
 "metadata": {
  "kernelspec": {
   "display_name": "ml4at",
   "language": "python",
   "name": "ml4at"
  },
  "language_info": {
   "codemirror_mode": {
    "name": "ipython",
    "version": 3
   },
   "file_extension": ".py",
   "mimetype": "text/x-python",
   "name": "python",
   "nbconvert_exporter": "python",
   "pygments_lexer": "ipython3",
   "version": "3.8.13"
  }
 },
 "nbformat": 4,
 "nbformat_minor": 5
}
