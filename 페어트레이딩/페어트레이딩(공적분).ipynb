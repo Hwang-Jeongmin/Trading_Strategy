{
 "cells": [
  {
   "cell_type": "markdown",
   "id": "f082d64b",
   "metadata": {},
   "source": [
    "## 패키지 가져오기"
   ]
  },
  {
   "cell_type": "code",
   "execution_count": 1,
   "id": "6c8a7150",
   "metadata": {},
   "outputs": [],
   "source": [
    "from pykrx import stock\n",
    "from pykrx import bond\n",
    "import pandas_datareader.data as web\n",
    "import FinanceDataReader as fdr\n",
    "\n",
    "from talib import RSI, BBANDS, MACD\n",
    "\n",
    "import numpy as np\n",
    "import pandas as pd\n",
    "\n",
    "import matplotlib.pyplot as plt\n",
    "import seaborn as sns\n",
    "from matplotlib.ticker import FuncFormatter\n",
    "import seaborn as sns\n",
    "\n",
    "import statsmodels.api as sm\n",
    "from statsmodels.regression.linear_model import OLS\n",
    "from statsmodels.tsa.stattools import adfuller\n",
    "from statsmodels.tsa.stattools import coint\n",
    "from sklearn.model_selection import train_test_split\n",
    "\n",
    "from sklearn.metrics import adjusted_mutual_info_score\n",
    "from sklearn import cluster, covariance, manifold\n",
    "\n",
    "\n",
    "from datetime import datetime\n",
    "from dateutil.relativedelta import relativedelta\n",
    "import time\n",
    "from tqdm import tqdm\n",
    "\n",
    "import multiprocessing as mp\n",
    "from multiprocessing import Pool, Manager\n",
    "\n",
    "import warnings\n",
    "warnings.filterwarnings('ignore')"
   ]
  },
  {
   "cell_type": "code",
   "execution_count": 2,
   "id": "04c63acf",
   "metadata": {},
   "outputs": [
    {
     "name": "stdout",
     "output_type": "stream",
     "text": [
      "사용가능한 코어 수: 8\n"
     ]
    }
   ],
   "source": [
    "num_cores = mp.cpu_count()\n",
    "print(f\"사용가능한 코어 수: {num_cores}\")"
   ]
  },
  {
   "cell_type": "markdown",
   "id": "7aed184d",
   "metadata": {},
   "source": [
    "## 전략 수립 및 구현"
   ]
  },
  {
   "cell_type": "markdown",
   "id": "eb069e23",
   "metadata": {},
   "source": [
    "2015년-2016년의 수익률을 기준으로 공적분 검정을 통해 ($\\alpha$ = 0.05) pair를 찾고  \n",
    "pair에서 저평가된 주식을 매수, 고평가된 주식을 매도  \n",
    "이 때, 저평가와 고평가의 여부는 페어로 묶인 두 주식의 ratio의 z-score를 사용   \n",
    "(ratio의 z-score를 구할 때, ratio의 평균은 22영업일(1개월) 이동평균을, 분산은 22영업일(1개월) 이동분산을 사용함)  \n",
    "평균에서 1 $\\sigma$ 초과(또는 미만)가 되는 지의 여부를 기준으로 함.  \n",
    "한편 2 $\\sigma$ 초과(또는 미만)이 되는 경우, breakout을 사용해 비중이 0이 되도록 함.  \n",
    "비중 설정 방식은 동일 가중 방식을 사용.  \n",
    "이 때, 2015년~2016년 동안 계속해서 코스피에 상장되어있던 주식을 대상으로 함  \n",
    "2017년 1월-2023년 1월의 기간동안, 리밸런싱은 1일마다 실시.  "
   ]
  },
  {
   "cell_type": "code",
   "execution_count": 3,
   "id": "bba2119e",
   "metadata": {},
   "outputs": [],
   "source": [
    "def return_price_df(tickers, start_date, end_date):\n",
    "    df = pd.DataFrame()\n",
    "    for ticker in tqdm(tickers):\n",
    "        price_df = stock.get_market_ohlcv(start_date, end_date, ticker)['종가'].to_frame(ticker)\n",
    "        df = pd.concat([df, price_df], axis=1)\n",
    "    return df"
   ]
  },
  {
   "cell_type": "code",
   "execution_count": 4,
   "id": "0c5b4a85",
   "metadata": {},
   "outputs": [
    {
     "data": {
      "text/html": [
       "<div>\n",
       "<style scoped>\n",
       "    .dataframe tbody tr th:only-of-type {\n",
       "        vertical-align: middle;\n",
       "    }\n",
       "\n",
       "    .dataframe tbody tr th {\n",
       "        vertical-align: top;\n",
       "    }\n",
       "\n",
       "    .dataframe thead th {\n",
       "        text-align: right;\n",
       "    }\n",
       "</style>\n",
       "<table border=\"1\" class=\"dataframe\">\n",
       "  <thead>\n",
       "    <tr style=\"text-align: right;\">\n",
       "      <th></th>\n",
       "      <th>003070</th>\n",
       "      <th>011160</th>\n",
       "      <th>003415</th>\n",
       "      <th>102280</th>\n",
       "      <th>123700</th>\n",
       "      <th>009970</th>\n",
       "      <th>023350</th>\n",
       "      <th>114090</th>\n",
       "      <th>002250</th>\n",
       "      <th>013520</th>\n",
       "      <th>...</th>\n",
       "      <th>001040</th>\n",
       "      <th>028050</th>\n",
       "      <th>047050</th>\n",
       "      <th>00781K</th>\n",
       "      <th>107590</th>\n",
       "      <th>18064K</th>\n",
       "      <th>073240</th>\n",
       "      <th>029780</th>\n",
       "      <th>000145</th>\n",
       "      <th>105560</th>\n",
       "    </tr>\n",
       "    <tr>\n",
       "      <th>날짜</th>\n",
       "      <th></th>\n",
       "      <th></th>\n",
       "      <th></th>\n",
       "      <th></th>\n",
       "      <th></th>\n",
       "      <th></th>\n",
       "      <th></th>\n",
       "      <th></th>\n",
       "      <th></th>\n",
       "      <th></th>\n",
       "      <th></th>\n",
       "      <th></th>\n",
       "      <th></th>\n",
       "      <th></th>\n",
       "      <th></th>\n",
       "      <th></th>\n",
       "      <th></th>\n",
       "      <th></th>\n",
       "      <th></th>\n",
       "      <th></th>\n",
       "      <th></th>\n",
       "    </tr>\n",
       "  </thead>\n",
       "  <tbody>\n",
       "    <tr>\n",
       "      <th>2015-01-05</th>\n",
       "      <td>-0.002913</td>\n",
       "      <td>-0.010310</td>\n",
       "      <td>-0.072319</td>\n",
       "      <td>0.044213</td>\n",
       "      <td>-0.005739</td>\n",
       "      <td>-0.001085</td>\n",
       "      <td>0.001030</td>\n",
       "      <td>0.013678</td>\n",
       "      <td>-0.033835</td>\n",
       "      <td>0.006270</td>\n",
       "      <td>...</td>\n",
       "      <td>0.012699</td>\n",
       "      <td>-0.034568</td>\n",
       "      <td>-0.013158</td>\n",
       "      <td>0.006944</td>\n",
       "      <td>0.018389</td>\n",
       "      <td>0.003617</td>\n",
       "      <td>-0.025536</td>\n",
       "      <td>-0.056000</td>\n",
       "      <td>0.014706</td>\n",
       "      <td>-0.016667</td>\n",
       "    </tr>\n",
       "    <tr>\n",
       "      <th>2015-01-06</th>\n",
       "      <td>-0.008919</td>\n",
       "      <td>-0.058246</td>\n",
       "      <td>0.005376</td>\n",
       "      <td>-0.013699</td>\n",
       "      <td>0.001443</td>\n",
       "      <td>0.001086</td>\n",
       "      <td>-0.013374</td>\n",
       "      <td>-0.026987</td>\n",
       "      <td>-0.019455</td>\n",
       "      <td>0.015576</td>\n",
       "      <td>...</td>\n",
       "      <td>-0.006270</td>\n",
       "      <td>-0.042977</td>\n",
       "      <td>-0.023333</td>\n",
       "      <td>-0.008046</td>\n",
       "      <td>-0.014749</td>\n",
       "      <td>-0.003604</td>\n",
       "      <td>-0.049266</td>\n",
       "      <td>-0.027845</td>\n",
       "      <td>0.000000</td>\n",
       "      <td>-0.002825</td>\n",
       "    </tr>\n",
       "    <tr>\n",
       "      <th>2015-01-07</th>\n",
       "      <td>0.002948</td>\n",
       "      <td>-0.036581</td>\n",
       "      <td>0.063280</td>\n",
       "      <td>-0.013889</td>\n",
       "      <td>-0.005764</td>\n",
       "      <td>0.000000</td>\n",
       "      <td>0.010428</td>\n",
       "      <td>-0.009245</td>\n",
       "      <td>-0.015873</td>\n",
       "      <td>0.008180</td>\n",
       "      <td>...</td>\n",
       "      <td>0.000000</td>\n",
       "      <td>-0.003026</td>\n",
       "      <td>-0.001706</td>\n",
       "      <td>-0.003476</td>\n",
       "      <td>0.003323</td>\n",
       "      <td>-0.018163</td>\n",
       "      <td>0.026461</td>\n",
       "      <td>-0.004981</td>\n",
       "      <td>-0.010033</td>\n",
       "      <td>-0.008499</td>\n",
       "    </tr>\n",
       "    <tr>\n",
       "      <th>2015-01-08</th>\n",
       "      <td>-0.004332</td>\n",
       "      <td>0.009264</td>\n",
       "      <td>-0.010059</td>\n",
       "      <td>0.000000</td>\n",
       "      <td>0.007246</td>\n",
       "      <td>0.011931</td>\n",
       "      <td>0.005160</td>\n",
       "      <td>0.052877</td>\n",
       "      <td>0.000000</td>\n",
       "      <td>0.000000</td>\n",
       "      <td>...</td>\n",
       "      <td>0.034698</td>\n",
       "      <td>0.001542</td>\n",
       "      <td>0.003419</td>\n",
       "      <td>-0.001163</td>\n",
       "      <td>-0.001673</td>\n",
       "      <td>-0.014814</td>\n",
       "      <td>-0.011815</td>\n",
       "      <td>0.020025</td>\n",
       "      <td>-0.013514</td>\n",
       "      <td>0.045714</td>\n",
       "    </tr>\n",
       "    <tr>\n",
       "      <th>2015-01-09</th>\n",
       "      <td>0.007303</td>\n",
       "      <td>0.011248</td>\n",
       "      <td>-0.033023</td>\n",
       "      <td>0.019206</td>\n",
       "      <td>0.012950</td>\n",
       "      <td>0.027867</td>\n",
       "      <td>-0.004107</td>\n",
       "      <td>0.060561</td>\n",
       "      <td>0.048387</td>\n",
       "      <td>0.010649</td>\n",
       "      <td>...</td>\n",
       "      <td>0.015248</td>\n",
       "      <td>0.037470</td>\n",
       "      <td>0.017036</td>\n",
       "      <td>-0.004657</td>\n",
       "      <td>-0.013304</td>\n",
       "      <td>0.018777</td>\n",
       "      <td>0.011957</td>\n",
       "      <td>-0.002454</td>\n",
       "      <td>-0.010274</td>\n",
       "      <td>0.006831</td>\n",
       "    </tr>\n",
       "  </tbody>\n",
       "</table>\n",
       "<p>5 rows × 856 columns</p>\n",
       "</div>"
      ],
      "text/plain": [
       "              003070    011160    003415    102280    123700    009970  \\\n",
       "날짜                                                                       \n",
       "2015-01-05 -0.002913 -0.010310 -0.072319  0.044213 -0.005739 -0.001085   \n",
       "2015-01-06 -0.008919 -0.058246  0.005376 -0.013699  0.001443  0.001086   \n",
       "2015-01-07  0.002948 -0.036581  0.063280 -0.013889 -0.005764  0.000000   \n",
       "2015-01-08 -0.004332  0.009264 -0.010059  0.000000  0.007246  0.011931   \n",
       "2015-01-09  0.007303  0.011248 -0.033023  0.019206  0.012950  0.027867   \n",
       "\n",
       "              023350    114090    002250    013520  ...    001040    028050  \\\n",
       "날짜                                                  ...                       \n",
       "2015-01-05  0.001030  0.013678 -0.033835  0.006270  ...  0.012699 -0.034568   \n",
       "2015-01-06 -0.013374 -0.026987 -0.019455  0.015576  ... -0.006270 -0.042977   \n",
       "2015-01-07  0.010428 -0.009245 -0.015873  0.008180  ...  0.000000 -0.003026   \n",
       "2015-01-08  0.005160  0.052877  0.000000  0.000000  ...  0.034698  0.001542   \n",
       "2015-01-09 -0.004107  0.060561  0.048387  0.010649  ...  0.015248  0.037470   \n",
       "\n",
       "              047050    00781K    107590    18064K    073240    029780  \\\n",
       "날짜                                                                       \n",
       "2015-01-05 -0.013158  0.006944  0.018389  0.003617 -0.025536 -0.056000   \n",
       "2015-01-06 -0.023333 -0.008046 -0.014749 -0.003604 -0.049266 -0.027845   \n",
       "2015-01-07 -0.001706 -0.003476  0.003323 -0.018163  0.026461 -0.004981   \n",
       "2015-01-08  0.003419 -0.001163 -0.001673 -0.014814 -0.011815  0.020025   \n",
       "2015-01-09  0.017036 -0.004657 -0.013304  0.018777  0.011957 -0.002454   \n",
       "\n",
       "              000145    105560  \n",
       "날짜                              \n",
       "2015-01-05  0.014706 -0.016667  \n",
       "2015-01-06  0.000000 -0.002825  \n",
       "2015-01-07 -0.010033 -0.008499  \n",
       "2015-01-08 -0.013514  0.045714  \n",
       "2015-01-09 -0.010274  0.006831  \n",
       "\n",
       "[5 rows x 856 columns]"
      ]
     },
     "execution_count": 4,
     "metadata": {},
     "output_type": "execute_result"
    }
   ],
   "source": [
    "price_df = pd.read_csv('pair_trading_price_df.csv', index_col=0)\n",
    "price_df.index = pd.to_datetime(price_df.index, format='%Y-%m-%d')\n",
    "price_df = price_df[price_df.index >= \"2015-01-01\"]\n",
    "price_df = price_df.dropna(axis=1)\n",
    "return_df = price_df.pct_change().dropna()\n",
    "return_df.head()"
   ]
  },
  {
   "cell_type": "code",
   "execution_count": 5,
   "id": "d4f87af1",
   "metadata": {},
   "outputs": [],
   "source": [
    "def find_cointegrated_pairs(data, significance=0.05):\n",
    "    n = data.shape[1]\n",
    "    pvalue_matrix = np.zeros((n,n))\n",
    "    keys = data.columns\n",
    "    pairs = []\n",
    "    for i in tqdm(range(n)):\n",
    "        for j in range(i+1, n):\n",
    "            result = coint(data[keys[i]], data[keys[j]])\n",
    "            pvalue_matrix[i, j] = result[1]\n",
    "            if result[1] < significance:\n",
    "                pairs.append((keys[i], keys[j]))\n",
    "    return pvalue_matrix, pairs"
   ]
  },
  {
   "cell_type": "code",
   "execution_count": 6,
   "id": "e8fb2743",
   "metadata": {},
   "outputs": [
    {
     "name": "stderr",
     "output_type": "stream",
     "text": [
      "100%|██████████| 856/856 [1:54:23<00:00,  8.02s/it]  \n"
     ]
    },
    {
     "name": "stdout",
     "output_type": "stream",
     "text": [
      "페어의 개수:  365256\n",
      "페어에 속한 주식의 개수:  856\n"
     ]
    }
   ],
   "source": [
    "pvalues, pairs = find_cointegrated_pairs(return_df, 0.05)\n",
    "all_tickers = []\n",
    "for pair in pairs:\n",
    "    all_tickers.append(pair[0])\n",
    "    all_tickers.append(pair[1])\n",
    "all_tickers = list(set(all_tickers))\n",
    "print(\"페어의 개수: \", len(pairs))\n",
    "print(\"페어에 속한 주식의 개수: \", len(all_tickers))"
   ]
  },
  {
   "cell_type": "code",
   "execution_count": 7,
   "id": "4376c307",
   "metadata": {
    "scrolled": true
   },
   "outputs": [
    {
     "name": "stderr",
     "output_type": "stream",
     "text": [
      "100%|██████████| 856/856 [01:11<00:00, 12.00it/s]\n"
     ]
    }
   ],
   "source": [
    "start_date, end_date = \"2016-12-01\", \"2023-01-31\"\n",
    "pair_price_df = return_price_df(all_tickers, start_date, end_date)\n",
    "pair_price_df = pair_price_df.fillna(0)\n",
    "pair_price_df.to_csv(\"pair_price_df(coint).csv\")"
   ]
  },
  {
   "cell_type": "code",
   "execution_count": 9,
   "id": "3b8d2d0f",
   "metadata": {},
   "outputs": [],
   "source": [
    "pair_price_df = pd.read_csv(\"pair_price_df(coint).csv\", index_col=0)\n",
    "pair_price_df.index = pd.to_datetime(pair_price_df.index, format='%Y-%m-%d')"
   ]
  },
  {
   "cell_type": "code",
   "execution_count": 11,
   "id": "4c16237a",
   "metadata": {},
   "outputs": [
    {
     "name": "stderr",
     "output_type": "stream",
     "text": [
      "  0%|          | 608/365256 [00:22<3:45:29, 26.95it/s]\n"
     ]
    },
    {
     "ename": "KeyboardInterrupt",
     "evalue": "",
     "output_type": "error",
     "traceback": [
      "\u001b[1;31m---------------------------------------------------------------------------\u001b[0m",
      "\u001b[1;31mKeyError\u001b[0m                                  Traceback (most recent call last)",
      "File \u001b[1;32m~\\miniconda3\\envs\\ml4at\\lib\\site-packages\\pandas\\core\\indexes\\base.py:3621\u001b[0m, in \u001b[0;36mIndex.get_loc\u001b[1;34m(self, key, method, tolerance)\u001b[0m\n\u001b[0;32m   3620\u001b[0m \u001b[38;5;28;01mtry\u001b[39;00m:\n\u001b[1;32m-> 3621\u001b[0m     \u001b[38;5;28;01mreturn\u001b[39;00m \u001b[38;5;28;43mself\u001b[39;49m\u001b[38;5;241;43m.\u001b[39;49m\u001b[43m_engine\u001b[49m\u001b[38;5;241;43m.\u001b[39;49m\u001b[43mget_loc\u001b[49m\u001b[43m(\u001b[49m\u001b[43mcasted_key\u001b[49m\u001b[43m)\u001b[49m\n\u001b[0;32m   3622\u001b[0m \u001b[38;5;28;01mexcept\u001b[39;00m \u001b[38;5;167;01mKeyError\u001b[39;00m \u001b[38;5;28;01mas\u001b[39;00m err:\n",
      "File \u001b[1;32m~\\miniconda3\\envs\\ml4at\\lib\\site-packages\\pandas\\_libs\\index.pyx:136\u001b[0m, in \u001b[0;36mpandas._libs.index.IndexEngine.get_loc\u001b[1;34m()\u001b[0m\n",
      "File \u001b[1;32m~\\miniconda3\\envs\\ml4at\\lib\\site-packages\\pandas\\_libs\\index.pyx:163\u001b[0m, in \u001b[0;36mpandas._libs.index.IndexEngine.get_loc\u001b[1;34m()\u001b[0m\n",
      "File \u001b[1;32mpandas\\_libs\\hashtable_class_helper.pxi:5198\u001b[0m, in \u001b[0;36mpandas._libs.hashtable.PyObjectHashTable.get_item\u001b[1;34m()\u001b[0m\n",
      "File \u001b[1;32mpandas\\_libs\\hashtable_class_helper.pxi:5206\u001b[0m, in \u001b[0;36mpandas._libs.hashtable.PyObjectHashTable.get_item\u001b[1;34m()\u001b[0m\n",
      "\u001b[1;31mKeyError\u001b[0m: 'pair_608'",
      "\nThe above exception was the direct cause of the following exception:\n",
      "\u001b[1;31mKeyError\u001b[0m                                  Traceback (most recent call last)",
      "File \u001b[1;32m~\\miniconda3\\envs\\ml4at\\lib\\site-packages\\pandas\\core\\frame.py:3799\u001b[0m, in \u001b[0;36mDataFrame._set_item_mgr\u001b[1;34m(self, key, value)\u001b[0m\n\u001b[0;32m   3798\u001b[0m \u001b[38;5;28;01mtry\u001b[39;00m:\n\u001b[1;32m-> 3799\u001b[0m     loc \u001b[38;5;241m=\u001b[39m \u001b[38;5;28;43mself\u001b[39;49m\u001b[38;5;241;43m.\u001b[39;49m\u001b[43m_info_axis\u001b[49m\u001b[38;5;241;43m.\u001b[39;49m\u001b[43mget_loc\u001b[49m\u001b[43m(\u001b[49m\u001b[43mkey\u001b[49m\u001b[43m)\u001b[49m\n\u001b[0;32m   3800\u001b[0m \u001b[38;5;28;01mexcept\u001b[39;00m \u001b[38;5;167;01mKeyError\u001b[39;00m:\n\u001b[0;32m   3801\u001b[0m     \u001b[38;5;66;03m# This item wasn't present, just insert at end\u001b[39;00m\n",
      "File \u001b[1;32m~\\miniconda3\\envs\\ml4at\\lib\\site-packages\\pandas\\core\\indexes\\base.py:3623\u001b[0m, in \u001b[0;36mIndex.get_loc\u001b[1;34m(self, key, method, tolerance)\u001b[0m\n\u001b[0;32m   3622\u001b[0m \u001b[38;5;28;01mexcept\u001b[39;00m \u001b[38;5;167;01mKeyError\u001b[39;00m \u001b[38;5;28;01mas\u001b[39;00m err:\n\u001b[1;32m-> 3623\u001b[0m     \u001b[38;5;28;01mraise\u001b[39;00m \u001b[38;5;167;01mKeyError\u001b[39;00m(key) \u001b[38;5;28;01mfrom\u001b[39;00m \u001b[38;5;21;01merr\u001b[39;00m\n\u001b[0;32m   3624\u001b[0m \u001b[38;5;28;01mexcept\u001b[39;00m \u001b[38;5;167;01mTypeError\u001b[39;00m:\n\u001b[0;32m   3625\u001b[0m     \u001b[38;5;66;03m# If we have a listlike key, _check_indexing_error will raise\u001b[39;00m\n\u001b[0;32m   3626\u001b[0m     \u001b[38;5;66;03m#  InvalidIndexError. Otherwise we fall through and re-raise\u001b[39;00m\n\u001b[0;32m   3627\u001b[0m     \u001b[38;5;66;03m#  the TypeError.\u001b[39;00m\n",
      "\u001b[1;31mKeyError\u001b[0m: 'pair_608'",
      "\nDuring handling of the above exception, another exception occurred:\n",
      "\u001b[1;31mKeyboardInterrupt\u001b[0m                         Traceback (most recent call last)",
      "Input \u001b[1;32mIn [11]\u001b[0m, in \u001b[0;36m<cell line: 3>\u001b[1;34m()\u001b[0m\n\u001b[0;32m     19\u001b[0m signal_df[ticker2] \u001b[38;5;241m=\u001b[39m signal1 \u001b[38;5;241m-\u001b[39m signal2\n\u001b[0;32m     21\u001b[0m daily_return \u001b[38;5;241m=\u001b[39m fwd_return\u001b[38;5;241m.\u001b[39mmul(signal_df)\u001b[38;5;241m.\u001b[39msum(axis\u001b[38;5;241m=\u001b[39m\u001b[38;5;241m1\u001b[39m)\n\u001b[1;32m---> 22\u001b[0m pair_daily_return[\u001b[38;5;124mf\u001b[39m\u001b[38;5;124m'\u001b[39m\u001b[38;5;124mpair_\u001b[39m\u001b[38;5;132;01m{\u001b[39;00mi\u001b[38;5;132;01m}\u001b[39;00m\u001b[38;5;124m'\u001b[39m] \u001b[38;5;241m=\u001b[39m daily_return\n",
      "File \u001b[1;32m~\\miniconda3\\envs\\ml4at\\lib\\site-packages\\pandas\\core\\frame.py:3655\u001b[0m, in \u001b[0;36mDataFrame.__setitem__\u001b[1;34m(self, key, value)\u001b[0m\n\u001b[0;32m   3652\u001b[0m     \u001b[38;5;28mself\u001b[39m\u001b[38;5;241m.\u001b[39m_setitem_array([key], value)\n\u001b[0;32m   3653\u001b[0m \u001b[38;5;28;01melse\u001b[39;00m:\n\u001b[0;32m   3654\u001b[0m     \u001b[38;5;66;03m# set column\u001b[39;00m\n\u001b[1;32m-> 3655\u001b[0m     \u001b[38;5;28;43mself\u001b[39;49m\u001b[38;5;241;43m.\u001b[39;49m\u001b[43m_set_item\u001b[49m\u001b[43m(\u001b[49m\u001b[43mkey\u001b[49m\u001b[43m,\u001b[49m\u001b[43m \u001b[49m\u001b[43mvalue\u001b[49m\u001b[43m)\u001b[49m\n",
      "File \u001b[1;32m~\\miniconda3\\envs\\ml4at\\lib\\site-packages\\pandas\\core\\frame.py:3845\u001b[0m, in \u001b[0;36mDataFrame._set_item\u001b[1;34m(self, key, value)\u001b[0m\n\u001b[0;32m   3842\u001b[0m         \u001b[38;5;28;01mif\u001b[39;00m \u001b[38;5;28misinstance\u001b[39m(existing_piece, DataFrame):\n\u001b[0;32m   3843\u001b[0m             value \u001b[38;5;241m=\u001b[39m np\u001b[38;5;241m.\u001b[39mtile(value, (\u001b[38;5;28mlen\u001b[39m(existing_piece\u001b[38;5;241m.\u001b[39mcolumns), \u001b[38;5;241m1\u001b[39m))\u001b[38;5;241m.\u001b[39mT\n\u001b[1;32m-> 3845\u001b[0m \u001b[38;5;28;43mself\u001b[39;49m\u001b[38;5;241;43m.\u001b[39;49m\u001b[43m_set_item_mgr\u001b[49m\u001b[43m(\u001b[49m\u001b[43mkey\u001b[49m\u001b[43m,\u001b[49m\u001b[43m \u001b[49m\u001b[43mvalue\u001b[49m\u001b[43m)\u001b[49m\n",
      "File \u001b[1;32m~\\miniconda3\\envs\\ml4at\\lib\\site-packages\\pandas\\core\\frame.py:3802\u001b[0m, in \u001b[0;36mDataFrame._set_item_mgr\u001b[1;34m(self, key, value)\u001b[0m\n\u001b[0;32m   3799\u001b[0m     loc \u001b[38;5;241m=\u001b[39m \u001b[38;5;28mself\u001b[39m\u001b[38;5;241m.\u001b[39m_info_axis\u001b[38;5;241m.\u001b[39mget_loc(key)\n\u001b[0;32m   3800\u001b[0m \u001b[38;5;28;01mexcept\u001b[39;00m \u001b[38;5;167;01mKeyError\u001b[39;00m:\n\u001b[0;32m   3801\u001b[0m     \u001b[38;5;66;03m# This item wasn't present, just insert at end\u001b[39;00m\n\u001b[1;32m-> 3802\u001b[0m     \u001b[38;5;28;43mself\u001b[39;49m\u001b[38;5;241;43m.\u001b[39;49m\u001b[43m_mgr\u001b[49m\u001b[38;5;241;43m.\u001b[39;49m\u001b[43minsert\u001b[49m\u001b[43m(\u001b[49m\u001b[38;5;28;43mlen\u001b[39;49m\u001b[43m(\u001b[49m\u001b[38;5;28;43mself\u001b[39;49m\u001b[38;5;241;43m.\u001b[39;49m\u001b[43m_info_axis\u001b[49m\u001b[43m)\u001b[49m\u001b[43m,\u001b[49m\u001b[43m \u001b[49m\u001b[43mkey\u001b[49m\u001b[43m,\u001b[49m\u001b[43m \u001b[49m\u001b[43mvalue\u001b[49m\u001b[43m)\u001b[49m\n\u001b[0;32m   3803\u001b[0m \u001b[38;5;28;01melse\u001b[39;00m:\n\u001b[0;32m   3804\u001b[0m     \u001b[38;5;28mself\u001b[39m\u001b[38;5;241m.\u001b[39m_iset_item_mgr(loc, value)\n",
      "File \u001b[1;32m~\\miniconda3\\envs\\ml4at\\lib\\site-packages\\pandas\\core\\internals\\managers.py:1264\u001b[0m, in \u001b[0;36mBlockManager.insert\u001b[1;34m(self, loc, item, value)\u001b[0m\n\u001b[0;32m   1255\u001b[0m \u001b[38;5;28mself\u001b[39m\u001b[38;5;241m.\u001b[39m_known_consolidated \u001b[38;5;241m=\u001b[39m \u001b[38;5;28;01mFalse\u001b[39;00m\n\u001b[0;32m   1257\u001b[0m \u001b[38;5;28;01mif\u001b[39;00m \u001b[38;5;28msum\u001b[39m(\u001b[38;5;129;01mnot\u001b[39;00m block\u001b[38;5;241m.\u001b[39mis_extension \u001b[38;5;28;01mfor\u001b[39;00m block \u001b[38;5;129;01min\u001b[39;00m \u001b[38;5;28mself\u001b[39m\u001b[38;5;241m.\u001b[39mblocks) \u001b[38;5;241m>\u001b[39m \u001b[38;5;241m100\u001b[39m:\n\u001b[0;32m   1258\u001b[0m     warnings\u001b[38;5;241m.\u001b[39mwarn(\n\u001b[0;32m   1259\u001b[0m         \u001b[38;5;124m\"\u001b[39m\u001b[38;5;124mDataFrame is highly fragmented.  This is usually the result \u001b[39m\u001b[38;5;124m\"\u001b[39m\n\u001b[0;32m   1260\u001b[0m         \u001b[38;5;124m\"\u001b[39m\u001b[38;5;124mof calling `frame.insert` many times, which has poor performance.  \u001b[39m\u001b[38;5;124m\"\u001b[39m\n\u001b[0;32m   1261\u001b[0m         \u001b[38;5;124m\"\u001b[39m\u001b[38;5;124mConsider joining all columns at once using pd.concat(axis=1) \u001b[39m\u001b[38;5;124m\"\u001b[39m\n\u001b[0;32m   1262\u001b[0m         \u001b[38;5;124m\"\u001b[39m\u001b[38;5;124minstead. To get a de-fragmented frame, use `newframe = frame.copy()`\u001b[39m\u001b[38;5;124m\"\u001b[39m,\n\u001b[0;32m   1263\u001b[0m         PerformanceWarning,\n\u001b[1;32m-> 1264\u001b[0m         stacklevel\u001b[38;5;241m=\u001b[39m\u001b[43mfind_stack_level\u001b[49m\u001b[43m(\u001b[49m\u001b[43m)\u001b[49m,\n\u001b[0;32m   1265\u001b[0m     )\n",
      "File \u001b[1;32m~\\miniconda3\\envs\\ml4at\\lib\\site-packages\\pandas\\util\\_exceptions.py:32\u001b[0m, in \u001b[0;36mfind_stack_level\u001b[1;34m()\u001b[0m\n\u001b[0;32m     27\u001b[0m \u001b[38;5;28;01mdef\u001b[39;00m \u001b[38;5;21mfind_stack_level\u001b[39m() \u001b[38;5;241m-\u001b[39m\u001b[38;5;241m>\u001b[39m \u001b[38;5;28mint\u001b[39m:\n\u001b[0;32m     28\u001b[0m     \u001b[38;5;124;03m\"\"\"\u001b[39;00m\n\u001b[0;32m     29\u001b[0m \u001b[38;5;124;03m    Find the first place in the stack that is not inside pandas\u001b[39;00m\n\u001b[0;32m     30\u001b[0m \u001b[38;5;124;03m    (tests notwithstanding).\u001b[39;00m\n\u001b[0;32m     31\u001b[0m \u001b[38;5;124;03m    \"\"\"\u001b[39;00m\n\u001b[1;32m---> 32\u001b[0m     stack \u001b[38;5;241m=\u001b[39m \u001b[43minspect\u001b[49m\u001b[38;5;241;43m.\u001b[39;49m\u001b[43mstack\u001b[49m\u001b[43m(\u001b[49m\u001b[43m)\u001b[49m\n\u001b[0;32m     34\u001b[0m     \u001b[38;5;28;01mimport\u001b[39;00m \u001b[38;5;21;01mpandas\u001b[39;00m \u001b[38;5;28;01mas\u001b[39;00m \u001b[38;5;21;01mpd\u001b[39;00m\n\u001b[0;32m     36\u001b[0m     pkg_dir \u001b[38;5;241m=\u001b[39m os\u001b[38;5;241m.\u001b[39mpath\u001b[38;5;241m.\u001b[39mdirname(pd\u001b[38;5;241m.\u001b[39m\u001b[38;5;18m__file__\u001b[39m)\n",
      "File \u001b[1;32m~\\miniconda3\\envs\\ml4at\\lib\\inspect.py:1526\u001b[0m, in \u001b[0;36mstack\u001b[1;34m(context)\u001b[0m\n\u001b[0;32m   1524\u001b[0m \u001b[38;5;28;01mdef\u001b[39;00m \u001b[38;5;21mstack\u001b[39m(context\u001b[38;5;241m=\u001b[39m\u001b[38;5;241m1\u001b[39m):\n\u001b[0;32m   1525\u001b[0m     \u001b[38;5;124;03m\"\"\"Return a list of records for the stack above the caller's frame.\"\"\"\u001b[39;00m\n\u001b[1;32m-> 1526\u001b[0m     \u001b[38;5;28;01mreturn\u001b[39;00m \u001b[43mgetouterframes\u001b[49m\u001b[43m(\u001b[49m\u001b[43msys\u001b[49m\u001b[38;5;241;43m.\u001b[39;49m\u001b[43m_getframe\u001b[49m\u001b[43m(\u001b[49m\u001b[38;5;241;43m1\u001b[39;49m\u001b[43m)\u001b[49m\u001b[43m,\u001b[49m\u001b[43m \u001b[49m\u001b[43mcontext\u001b[49m\u001b[43m)\u001b[49m\n",
      "File \u001b[1;32m~\\miniconda3\\envs\\ml4at\\lib\\inspect.py:1503\u001b[0m, in \u001b[0;36mgetouterframes\u001b[1;34m(frame, context)\u001b[0m\n\u001b[0;32m   1501\u001b[0m framelist \u001b[38;5;241m=\u001b[39m []\n\u001b[0;32m   1502\u001b[0m \u001b[38;5;28;01mwhile\u001b[39;00m frame:\n\u001b[1;32m-> 1503\u001b[0m     frameinfo \u001b[38;5;241m=\u001b[39m (frame,) \u001b[38;5;241m+\u001b[39m \u001b[43mgetframeinfo\u001b[49m\u001b[43m(\u001b[49m\u001b[43mframe\u001b[49m\u001b[43m,\u001b[49m\u001b[43m \u001b[49m\u001b[43mcontext\u001b[49m\u001b[43m)\u001b[49m\n\u001b[0;32m   1504\u001b[0m     framelist\u001b[38;5;241m.\u001b[39mappend(FrameInfo(\u001b[38;5;241m*\u001b[39mframeinfo))\n\u001b[0;32m   1505\u001b[0m     frame \u001b[38;5;241m=\u001b[39m frame\u001b[38;5;241m.\u001b[39mf_back\n",
      "File \u001b[1;32m~\\miniconda3\\envs\\ml4at\\lib\\inspect.py:1473\u001b[0m, in \u001b[0;36mgetframeinfo\u001b[1;34m(frame, context)\u001b[0m\n\u001b[0;32m   1470\u001b[0m \u001b[38;5;28;01mif\u001b[39;00m \u001b[38;5;129;01mnot\u001b[39;00m isframe(frame):\n\u001b[0;32m   1471\u001b[0m     \u001b[38;5;28;01mraise\u001b[39;00m \u001b[38;5;167;01mTypeError\u001b[39;00m(\u001b[38;5;124m'\u001b[39m\u001b[38;5;132;01m{!r}\u001b[39;00m\u001b[38;5;124m is not a frame or traceback object\u001b[39m\u001b[38;5;124m'\u001b[39m\u001b[38;5;241m.\u001b[39mformat(frame))\n\u001b[1;32m-> 1473\u001b[0m filename \u001b[38;5;241m=\u001b[39m \u001b[43mgetsourcefile\u001b[49m\u001b[43m(\u001b[49m\u001b[43mframe\u001b[49m\u001b[43m)\u001b[49m \u001b[38;5;129;01mor\u001b[39;00m getfile(frame)\n\u001b[0;32m   1474\u001b[0m \u001b[38;5;28;01mif\u001b[39;00m context \u001b[38;5;241m>\u001b[39m \u001b[38;5;241m0\u001b[39m:\n\u001b[0;32m   1475\u001b[0m     start \u001b[38;5;241m=\u001b[39m lineno \u001b[38;5;241m-\u001b[39m \u001b[38;5;241m1\u001b[39m \u001b[38;5;241m-\u001b[39m context\u001b[38;5;241m/\u001b[39m\u001b[38;5;241m/\u001b[39m\u001b[38;5;241m2\u001b[39m\n",
      "File \u001b[1;32m~\\miniconda3\\envs\\ml4at\\lib\\inspect.py:705\u001b[0m, in \u001b[0;36mgetsourcefile\u001b[1;34m(object)\u001b[0m\n\u001b[0;32m    702\u001b[0m \u001b[38;5;28;01melif\u001b[39;00m \u001b[38;5;28many\u001b[39m(filename\u001b[38;5;241m.\u001b[39mendswith(s) \u001b[38;5;28;01mfor\u001b[39;00m s \u001b[38;5;129;01min\u001b[39;00m\n\u001b[0;32m    703\u001b[0m              importlib\u001b[38;5;241m.\u001b[39mmachinery\u001b[38;5;241m.\u001b[39mEXTENSION_SUFFIXES):\n\u001b[0;32m    704\u001b[0m     \u001b[38;5;28;01mreturn\u001b[39;00m \u001b[38;5;28;01mNone\u001b[39;00m\n\u001b[1;32m--> 705\u001b[0m \u001b[38;5;28;01mif\u001b[39;00m \u001b[43mos\u001b[49m\u001b[38;5;241;43m.\u001b[39;49m\u001b[43mpath\u001b[49m\u001b[38;5;241;43m.\u001b[39;49m\u001b[43mexists\u001b[49m\u001b[43m(\u001b[49m\u001b[43mfilename\u001b[49m\u001b[43m)\u001b[49m:\n\u001b[0;32m    706\u001b[0m     \u001b[38;5;28;01mreturn\u001b[39;00m filename\n\u001b[0;32m    707\u001b[0m \u001b[38;5;66;03m# only return a non-existent filename if the module has a PEP 302 loader\u001b[39;00m\n",
      "File \u001b[1;32m~\\miniconda3\\envs\\ml4at\\lib\\genericpath.py:19\u001b[0m, in \u001b[0;36mexists\u001b[1;34m(path)\u001b[0m\n\u001b[0;32m     17\u001b[0m \u001b[38;5;124;03m\"\"\"Test whether a path exists.  Returns False for broken symbolic links\"\"\"\u001b[39;00m\n\u001b[0;32m     18\u001b[0m \u001b[38;5;28;01mtry\u001b[39;00m:\n\u001b[1;32m---> 19\u001b[0m     \u001b[43mos\u001b[49m\u001b[38;5;241;43m.\u001b[39;49m\u001b[43mstat\u001b[49m\u001b[43m(\u001b[49m\u001b[43mpath\u001b[49m\u001b[43m)\u001b[49m\n\u001b[0;32m     20\u001b[0m \u001b[38;5;28;01mexcept\u001b[39;00m (\u001b[38;5;167;01mOSError\u001b[39;00m, \u001b[38;5;167;01mValueError\u001b[39;00m):\n\u001b[0;32m     21\u001b[0m     \u001b[38;5;28;01mreturn\u001b[39;00m \u001b[38;5;28;01mFalse\u001b[39;00m\n",
      "\u001b[1;31mKeyboardInterrupt\u001b[0m: "
     ]
    }
   ],
   "source": [
    "pair_daily_return = pd.DataFrame()\n",
    "\n",
    "for i in tqdm(range(len(pairs))):\n",
    "    ticker1, ticker2 = pairs[i]\n",
    "    temp_df = pair_price_df.loc[:, [ticker1, ticker2]]\n",
    "\n",
    "    fwd_return = temp_df.pct_change().shift(-1)\n",
    "    fwd_return = fwd_return.fillna(0)\n",
    "    fwd_return.index = pd.to_datetime(fwd_return.index, format='%Y-%m-%d')\n",
    "\n",
    "    ratio = temp_df[ticker1] / temp_df[ticker2]\n",
    "    rolling_mean = ratio.rolling(window=22).mean()\n",
    "    rolling_std = ratio.rolling(window=22).std()\n",
    "    z_ratio = ((ratio-rolling_mean)/rolling_std).dropna()\n",
    "    signal_df = pd.DataFrame()\n",
    "    signal1 = ((1 < z_ratio) & (z_ratio< 2)).astype(int)\n",
    "    signal2 = ((-2 < z_ratio) & (z_ratio< -1)).astype(int)\n",
    "    signal_df[ticker1] = signal2 - signal1\n",
    "    signal_df[ticker2] = signal1 - signal2\n",
    "\n",
    "    daily_return = fwd_return.mul(signal_df).sum(axis=1)\n",
    "    pair_daily_return[f'pair_{i}'] = daily_return"
   ]
  },
  {
   "cell_type": "code",
   "execution_count": null,
   "id": "978a320b",
   "metadata": {},
   "outputs": [],
   "source": [
    "def calculate_daily_return(pair_daily_return):\n",
    "    nonzero = (pair_daily_return != 0).sum(axis=1)\n",
    "    daily_return = pair_daily_return.sum(axis=1).div(nonzero).fillna(0)\n",
    "    return daily_return\n",
    "daily_return = calculate_daily_return(pair_daily_return).to_frame(\"daily_return\")\n",
    "daily_return"
   ]
  },
  {
   "cell_type": "code",
   "execution_count": null,
   "id": "74bde35a",
   "metadata": {},
   "outputs": [],
   "source": [
    "cumulative_return = (np.exp(np.log(daily_return['daily_return']+1).cumsum())-1).to_frame(\"cumulative_return\")\n",
    "cumulative_return"
   ]
  },
  {
   "cell_type": "code",
   "execution_count": null,
   "id": "546b0f21",
   "metadata": {},
   "outputs": [],
   "source": [
    "fig = plt.figure(figsize=(7,7))\n",
    "ax = fig.add_subplot(111)\n",
    "ax.plot(cumulative_return)\n",
    "ax.set_title(\"CUMULATIVE RETURN\", fontsize=16)\n",
    "ax.yaxis.set_major_formatter(FuncFormatter(lambda y, _: '{:.0%}'.format(y)))"
   ]
  },
  {
   "cell_type": "markdown",
   "id": "6180bc35",
   "metadata": {},
   "source": [
    "## 자세한 결과 분석"
   ]
  },
  {
   "cell_type": "code",
   "execution_count": null,
   "id": "a733cb6e",
   "metadata": {},
   "outputs": [],
   "source": [
    "import pyfolio as pf\n",
    "from pyfolio.plotting import plot_rolling_returns, plot_rolling_sharpe\n",
    "from pyfolio.timeseries import forecast_cone_bootstrap"
   ]
  },
  {
   "cell_type": "code",
   "execution_count": null,
   "id": "b652e4f1",
   "metadata": {},
   "outputs": [],
   "source": [
    "fig, axes = plt.subplots(ncols=2, figsize=(16, 8))\n",
    "\n",
    "plot_rolling_returns(daily_return['daily_return'],\n",
    "                     logy=False,\n",
    "                     legend_loc='best',\n",
    "                     volatility_match=False,\n",
    "                    ax=axes[0])\n",
    "plot_rolling_sharpe(daily_return['daily_return'], ax=axes[1], rolling_window=63)\n",
    "axes[0].set_title('Cumulative Returns', fontsize=16)\n",
    "axes[1].set_title('Rolling Sharpe Ratio (3 Months)', fontsize=16)"
   ]
  },
  {
   "cell_type": "code",
   "execution_count": null,
   "id": "18af0963",
   "metadata": {},
   "outputs": [],
   "source": [
    "pf.create_returns_tear_sheet(daily_return['daily_return'])"
   ]
  }
 ],
 "metadata": {
  "kernelspec": {
   "display_name": "ml4at",
   "language": "python",
   "name": "ml4at"
  },
  "language_info": {
   "codemirror_mode": {
    "name": "ipython",
    "version": 3
   },
   "file_extension": ".py",
   "mimetype": "text/x-python",
   "name": "python",
   "nbconvert_exporter": "python",
   "pygments_lexer": "ipython3",
   "version": "3.8.13"
  }
 },
 "nbformat": 4,
 "nbformat_minor": 5
}
